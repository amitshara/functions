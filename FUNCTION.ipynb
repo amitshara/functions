{
  "cells": [
    {
      "cell_type": "markdown",
      "source": [
        "Q1.\n",
        "- function always used as standalone but method always used with object.. and mothed is associated with object..\n",
        "\n",
        "Q2.\n",
        "- parameter is a veriable which will pass in function but argument is actual value that will be passed in function..\n",
        "\n",
        "Q3.\n",
        "- there is many ways to denfine a function but there are some main ways to define function which is used by progarammer..\n",
        "* standard function ( with def )\n",
        "* function with default parameter\n",
        "* lambda function\n",
        "\n",
        "Q4.\n",
        "-return in python is statement is used to exit the function and send a back value to caller\n",
        "\n",
        "Q5.\n",
        "- An iterable is any object that can return its elements one at a time. but  An iterator is an object that produces values one at a time when iterated over.\n",
        "\n",
        "Q6.\n",
        "-Generators are iterators in Python that yield values one at a time as they are requested. They are memory-efficient and useful for handling large datasets.\n",
        "\n",
        "Q7.\n",
        "- Generators provide several benefits, especially when dealing with large data or computationally intensive tasks. Here’s why they are preferred in many scenarios:\n",
        "1. memory efficiency.\n",
        "\n",
        "Q8.\n",
        "- A lambda function in Python is a small, anonymous function defined using the lambda keyword.\n",
        "\n",
        "Q9.\n",
        "- The map() function is used to apply a function to every item in an iterable (like a list, tuple, or string). It returns a map object (an iterator) containing the results.\n",
        "\n",
        "Q10.\n",
        "- These three functions (map(), reduce(), and filter()) are part of Python’s functional programming tools. They allow you to apply functions to iterables in different ways, leading to concise and efficient code.\n",
        "\n",
        "Q11.\n",
        "o understand the internal mechanism of the reduce() function for performing a sum operation on the list [47, 11, 42, 13], let’s break it down step by step.\n",
        "\n",
        "The reduce() function in Python applies a binary function (a function that takes two arguments) cumulatively to the items in an iterable, from left to right, so as to reduce the iterable to a single value.\n",
        "\n",
        "Step-by-Step Process for Summing with reduce()\n",
        "Given the list: [47, 11, 42, 13]\n",
        "\n",
        "The operation we will perform is summing the elements using the reduce() function with the lambda function lambda x, y: x + y.\n",
        "\n",
        "Initial Step: The reduce() function starts by taking the first two elements of the list.\n",
        "\n",
        "Initial list: [47, 11, 42, 13]\n",
        "Take the first two elements: 47 and 11\n",
        "The lambda function lambda x, y: x + y is applied:\n",
        "\n",
        "47 + 11 = 58\n",
        "\n",
        "Second Step: The result from the first step (58) is then combined with the next element (42).\n",
        "\n",
        "Result from the first step: 58\n",
        "Take the next element: 42\n",
        "Apply the lambda function:\n",
        "\n",
        "58 + 42 = 100\n",
        "\n",
        "Third Step: The result from the second step (100) is then combined with the final element (13).\n",
        "\n",
        "Result from the second step: 100\n",
        "Take the last element: 13\n",
        "Apply the lambda function:\n",
        "\n",
        "100 + 13 = 113\n",
        "\n",
        "Final Result:\n",
        "After all elements have been processed, the final result of the sum is 113.\n",
        "\n",
        "Summary of the Internal Mechanism:\n",
        "First, 47 and 11 are added: 47 + 11 = 58\n",
        "Then, 58 and 42 are added: 58 + 42 = 100\n",
        "Finally, 100 and 13 are added: 100 + 13 = 113\n",
        "Thus, the result of applying reduce() with the lambda function lambda x, y: x + y on the list [47, 11, 42, 13] is 113."
      ],
      "metadata": {
        "id": "Vyv8WdmQWvQ-"
      }
    },
    {
      "cell_type": "code",
      "source": [
        "Q1.\n",
        "def sum_even_numbers(numbers):\n",
        "    return sum(num for num in numbers if num % 2 == 0)\n"
      ],
      "metadata": {
        "id": "fyAWenyEQWAr"
      },
      "execution_count": 6,
      "outputs": []
    },
    {
      "cell_type": "code",
      "source": [
        "Q2.\n",
        "def reverse_string(s):\n",
        "    return s[::-1]\n",
        "string = \"hello\"\n",
        "reversed_result = reverse_string(string)\n",
        "print(reversed_result)  # Output: \"olleh\"\n"
      ],
      "metadata": {
        "id": "bJ6lzIZ9Rk6_"
      },
      "execution_count": null,
      "outputs": []
    },
    {
      "cell_type": "code",
      "source": [
        "Q3.\n",
        "def square_numbers(numbers):\n",
        "    return [num ** 2 for num in numbers]\n"
      ],
      "metadata": {
        "id": "1s0jSa0sTn05"
      },
      "execution_count": null,
      "outputs": []
    },
    {
      "cell_type": "code",
      "source": [
        "Q4.\n",
        "def is_prime(num):\n",
        "    if num <= 1:\n",
        "        return False\n",
        "    for i in range(2, int(num ** 0.5) + 1):\n",
        "        if num % i == 0:\n",
        "            return False\n",
        "    return True\n"
      ],
      "metadata": {
        "id": "7fOa610WT_oF"
      },
      "execution_count": null,
      "outputs": []
    },
    {
      "cell_type": "code",
      "source": [
        "Q5.\n",
        "-class FibonacciIterator:\n",
        "    def __init__(self, n):\n",
        "        self.n = n\n",
        "        self.a, self.b = 0, 1\n",
        "        self.count = 0\n",
        "\n",
        "    def __iter__(self):\n",
        "        return self\n",
        "\n",
        "    def __next__(self):\n",
        "        if self.count >= self.n:\n",
        "            raise StopIteration\n",
        "        fib = self.a\n",
        "        self.a, self.b = self.b, self.a + self.b\n",
        "        self.count += 1\n",
        "        return fib"
      ],
      "metadata": {
        "id": "KAi3nbPWUSkJ"
      },
      "execution_count": null,
      "outputs": []
    },
    {
      "cell_type": "code",
      "source": [
        "Q6.\n",
        "-def powers_of_two(exponent):\n",
        "    for i in range(exponent + 1):\n",
        "        yield 2 ** i\n",
        "\n",
        "\n",
        ""
      ],
      "metadata": {
        "id": "PKYF0sUHUyhZ"
      },
      "execution_count": null,
      "outputs": []
    },
    {
      "cell_type": "code",
      "source": [
        "Q7.\n",
        "-def read_file_by_line(filepath):\n",
        "    with open(filepath, 'r') as file:\n",
        "        for line in file:\n",
        "            yield line.strip()"
      ],
      "metadata": {
        "id": "H6GpSGNAVAo_"
      },
      "execution_count": null,
      "outputs": []
    },
    {
      "cell_type": "code",
      "source": [
        "Q8.\n",
        "-# List of tuples\n",
        "tuples_list = [(1, 3), (2, 1), (4, 2), (3, 4)]\n",
        "\n",
        "# Sort the list based on the second element of each tuple\n",
        "sorted_list = sorted(tuples_list, key=lambda x: x[1])\n",
        "\n",
        "print(sorted_list)\n"
      ],
      "metadata": {
        "id": "z15Q1setVq_5"
      },
      "execution_count": null,
      "outputs": []
    },
    {
      "cell_type": "code",
      "source": [
        "Q9.\n",
        "# List of temperatures in Celsius\n",
        "celsius_temps = [0, 10, 20, 30, 40]\n",
        "\n",
        "# Function to convert Celsius to Fahrenheit\n",
        "def celsius_to_fahrenheit(celsius):\n",
        "    return (celsius * 9/5) + 32\n",
        "\n",
        "# Use map() to apply the conversion function to the list\n",
        "fahrenheit_temps = list(map(celsius_to_fahrenheit, celsius_temps))\n",
        "\n",
        "print(fahrenheit_temps)\n"
      ],
      "metadata": {
        "id": "NoY14qecVteW"
      },
      "execution_count": null,
      "outputs": []
    },
    {
      "cell_type": "code",
      "source": [
        "Q10.\n",
        "- # Given string\n",
        "input_string = \"Hello, World!\"\n",
        "\n",
        "# Function to check if a character is not a vowel\n",
        "def is_not_vowel(char):\n",
        "    return char.lower() not in 'aeiou'\n",
        "\n",
        "# Use filter() to remove vowels\n",
        "filtered_string = ''.join(filter(is_not_vowel, input_string))\n",
        "\n",
        "print(filtered_string)\n"
      ],
      "metadata": {
        "id": "Gcl-D4G8V-KH"
      },
      "execution_count": null,
      "outputs": []
    },
    {
      "cell_type": "markdown",
      "source": [],
      "metadata": {
        "id": "57HrrQ9IWpch"
      }
    },
    {
      "cell_type": "code",
      "source": [
        "Q11.\n",
        "-"
      ],
      "metadata": {
        "id": "DF4DpzzdWRlt"
      },
      "execution_count": null,
      "outputs": []
    }
  ],
  "metadata": {
    "colab": {
      "name": "Welcome to Colaboratory",
      "toc_visible": true,
      "provenance": []
    },
    "kernelspec": {
      "display_name": "Python 3",
      "name": "python3"
    }
  },
  "nbformat": 4,
  "nbformat_minor": 0
}